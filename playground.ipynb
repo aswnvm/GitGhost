{
 "cells": [
  {
   "cell_type": "markdown",
   "metadata": {},
   "source": [
    "user interaction---->"
   ]
  },
  {
   "cell_type": "code",
   "execution_count": null,
   "metadata": {},
   "outputs": [],
   "source": [
    "import git\n",
    "from datetime import datetime, timedelta\n",
    "from random import randint\n",
    "import os\n",
    "\n",
    "\n",
    "local_repo = input('local repo exists? (y/n): ')\n",
    "if local_repo == 'n':\n",
    "    username = input('Enter your username: ')\n",
    "    repo_name = input('Enter the name of the repository: ')\n",
    "    local_rep_path = input('Enter the destination path: ')\n",
    "    repo = git.Repo.clone_from(f'https://github.com/{username}/{repo_name}.git', local_rep_path)\n",
    "    print('repository cloned successfully!')\n",
    "else:\n",
    "    local_rep_path = input('Enter the local repository path: ')\n",
    "    repo = git.Repo(local_rep_path)\n",
    "print(local_rep_path)\n"
   ]
  },
  {
   "cell_type": "markdown",
   "metadata": {},
   "source": [
    "git logic ---->"
   ]
  },
  {
   "cell_type": "code",
   "execution_count": null,
   "metadata": {},
   "outputs": [],
   "source": [
    "def commit_n_push(date):\n",
    "    with open(os.path.join(local_rep_path + '/README.md'), 'w') as f:\n",
    "        f.write(f\"This is a README file for the repository. Updated at {date}\\n\")\n",
    "    repo.index.add([os.path.join(local_rep_path + '/README.md')])\n",
    "    repo.index.commit(\"test commit\",author_date=date ,commit_date=date)\n",
    "    repo.remotes.origin.push()\n"
   ]
  },
  {
   "cell_type": "markdown",
   "metadata": {},
   "source": [
    "timestamp generation ---->"
   ]
  },
  {
   "cell_type": "code",
   "execution_count": null,
   "metadata": {},
   "outputs": [],
   "source": [
    "days = int(input('Enter the number of days to commit: '))\n",
    "\n",
    "for day in range(0, days):\n",
    "    date = (datetime.today() - timedelta(days=day)).strftime(\"%Y-%m-%d %H:%M:%S\")\n",
    "    for i in range(0, randint(1,5)):\n",
    "        print(date)\n",
    "        commit_n_push(date)\n"
   ]
  },
  {
   "cell_type": "markdown",
   "metadata": {},
   "source": [
    "random content/message ---->"
   ]
  },
  {
   "cell_type": "code",
   "execution_count": null,
   "metadata": {},
   "outputs": [],
   "source": [
    "import random\n",
    "\n",
    "def load_file_content(file_path):\n",
    "    with open(file_path, \"r\") as f:\n",
    "        return [line.strip() for line in f.readlines() if line.strip()]\n",
    "\n",
    "for i in range(0, 10):\n",
    "    readme_cont = load_file_content(\"readme_contents.txt\")\n",
    "    commit_msg = load_file_content(\"commit_messages.txt\")\n",
    "\n",
    "    random_readme_cont = random.choice(readme_cont)\n",
    "    random_commit_msg = random.choice(commit_msg)\n",
    "\n",
    "    print(random_readme_cont, ' -- ', random_commit_msg)\n"
   ]
  },
  {
   "cell_type": "markdown",
   "metadata": {},
   "source": [
    "file existence-->"
   ]
  },
  {
   "cell_type": "code",
   "execution_count": null,
   "metadata": {},
   "outputs": [],
   "source": [
    "def file_check(fn):\n",
    "\n",
    "    if os.path.exists(fn):\n",
    "        print(f\"file {fn} exists\")\n",
    "    else:\n",
    "        print(f\"file {fn} does not exist\")\n",
    "\n",
    "        if os.path.splitext(f\"r{file}\")[1] == \".py\":\n",
    "            print(f\"file {file} is a python file\")\n",
    "        else:\n",
    "            print(f\"file {file} is not a python file\")\n",
    "\n",
    "    return os.path.splitext(f\"r{file}\")[1]\n"
   ]
  },
  {
   "cell_type": "markdown",
   "metadata": {},
   "source": [
    "json definition- -->"
   ]
  },
  {
   "cell_type": "code",
   "execution_count": null,
   "metadata": {},
   "outputs": [],
   "source": [
    "{\n",
    "    \"content#1\" : {\n",
    "        \"readme\" : \"GitGhost is an automated bot that generates and modifies code in a repository using AI.\",\n",
    "        \"commit\" : \"Initial commit with setup files\"\n",
    "    },\n",
    "    \"content#2\" : {\n",
    "        \"readme\" : \"GitGhost is an automated bot that generates and modifies code in a repository using AI.\",\n",
    "        \"commit\" : \"Initial commit with setup files\"\n",
    "    }\n",
    "}\n"
   ]
  },
  {
   "cell_type": "code",
   "execution_count": 42,
   "metadata": {},
   "outputs": [
    {
     "name": "stdout",
     "output_type": "stream",
     "text": [
      "1 is an automated bot that generates and modifies code in a repository using AI.\n",
      "1 Initial commit with setup files\n"
     ]
    }
   ],
   "source": [
    "import json\n",
    "from random import randint\n",
    "\n",
    "def content_gen():\n",
    "    with open('content.json', 'r') as f:\n",
    "        data = json.load(f)\n",
    "\n",
    "    keys = list(data.keys())\n",
    "    idx = randint(0,len(keys)-1)\n",
    "    dat = data[keys[idx]]\n",
    "    return dat\n",
    "\n",
    "a = content_gen()\n",
    "print(a['readme'])\n",
    "print(a['commit'])\n"
   ]
  },
  {
   "cell_type": "markdown",
   "metadata": {},
   "source": [
    "regex--->"
   ]
  },
  {
   "cell_type": "code",
   "execution_count": null,
   "metadata": {},
   "outputs": [
    {
     "name": "stdout",
     "output_type": "stream",
     "text": [
      "['Tether brings people closer, no matter how far apart.']\n"
     ]
    }
   ],
   "source": [
    "import re\n",
    "import random\n",
    "\n",
    "new_content = \"GitGhost is an automated bot that generates and modifies code in a repos.\"\n",
    "def file_modifier(fpath):\n",
    "    with open(fpath, 'r') as f:\n",
    "        content = f.read()\n",
    "    pattern = re.findall(r\"[^.!?]+[.!?]\", content)\n",
    "    # pattern = re.split(r\"(\\.|\\?|!)\", content)\n",
    "\n",
    "    print(pattern)\n",
    "\n",
    "    if pattern:\n",
    "        change = content.replace(random.choice(pattern), new_content, 1)\n",
    "    with open(fpath, 'w') as f:\n",
    "        f.write(change)\n",
    "\n",
    "file_modifier(r'D:\\aswn\\Github\\Tether\\repo\\README.md')\n"
   ]
  },
  {
   "cell_type": "code",
   "execution_count": null,
   "metadata": {},
   "outputs": [
    {
     "data": {
      "text/plain": [
       "True"
      ]
     },
     "execution_count": 59,
     "metadata": {},
     "output_type": "execute_result"
    }
   ],
   "source": [
    "import re\n",
    "import random\n",
    "\n",
    "new_content = \"Rest in peace !\"\n",
    "def file_modifier(fpath):\n",
    "    with open(fpath, 'r') as f:\n",
    "        content = f.read()\n",
    "    pattern = r'print\\(([\"\\'])(.*?)\\1\\)'\n",
    "    matches = re.findall(pattern, content)\n",
    "\n",
    "\n",
    "    if matches:\n",
    "        old_text = random.choice(matches)[1]\n",
    "        new_content_escaped = new_content.replace(\"\\\\\", \"\\\\\\\\\")\n",
    "        updated_content = re.sub(\n",
    "            rf'print\\(([\"\\']){re.escape(old_text)}\\1\\)',\n",
    "            f'print({matches[0][0]}{new_content_escaped}{matches[0][0]})',\n",
    "            content,\n",
    "            count=1\n",
    "        )\n",
    "        with open(fpath, 'w') as f:\n",
    "            f.write(updated_content)\n",
    "        return True\n",
    "\n",
    "    return False\n",
    "\n",
    "\n",
    "file_modifier(r'D:\\aswn\\Github\\Tether\\repo\\main.py')\n"
   ]
  },
  {
   "cell_type": "code",
   "execution_count": null,
   "metadata": {},
   "outputs": [],
   "source": []
  }
 ],
 "metadata": {
  "kernelspec": {
   "display_name": "Python 3",
   "language": "python",
   "name": "python3"
  },
  "language_info": {
   "codemirror_mode": {
    "name": "ipython",
    "version": 3
   },
   "file_extension": ".py",
   "mimetype": "text/x-python",
   "name": "python",
   "nbconvert_exporter": "python",
   "pygments_lexer": "ipython3",
   "version": "3.11.2"
  }
 },
 "nbformat": 4,
 "nbformat_minor": 2
}
