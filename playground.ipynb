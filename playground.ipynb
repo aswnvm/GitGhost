{
 "cells": [
  {
   "cell_type": "markdown",
   "metadata": {},
   "source": [
    "user interaction---->"
   ]
  },
  {
   "cell_type": "code",
   "execution_count": null,
   "metadata": {},
   "outputs": [],
   "source": [
    "import git\n",
    "from datetime import datetime, timedelta\n",
    "from random import randint\n",
    "import os\n",
    "\n",
    "\n",
    "local_repo = input('local repo exists? (y/n): ')\n",
    "if local_repo == 'n':\n",
    "    username = input('Enter your username: ')\n",
    "    repo_name = input('Enter the name of the repository: ')\n",
    "    local_rep_path = input('Enter the destination path: ')\n",
    "    repo = git.Repo.clone_from(f'https://github.com/{username}/{repo_name}.git', local_rep_path)\n",
    "    print('repository cloned successfully!')\n",
    "else:\n",
    "    local_rep_path = input('Enter the local repository path: ')\n",
    "    repo = git.Repo(local_rep_path)\n",
    "print(local_rep_path)\n"
   ]
  },
  {
   "cell_type": "markdown",
   "metadata": {},
   "source": [
    "git logic ---->"
   ]
  },
  {
   "cell_type": "code",
   "execution_count": null,
   "metadata": {},
   "outputs": [],
   "source": [
    "def commit_n_push(date):\n",
    "    with open(os.path.join(local_rep_path + '/README.md'), 'w') as f:\n",
    "        f.write(f\"This is a README file for the repository. Updated at {date}\\n\")\n",
    "    repo.index.add([os.path.join(local_rep_path + '/README.md')])\n",
    "    repo.index.commit(\"test commit\",author_date=date ,commit_date=date)\n",
    "    repo.remotes.origin.push()\n"
   ]
  },
  {
   "cell_type": "markdown",
   "metadata": {},
   "source": [
    "timestamp generation ---->"
   ]
  },
  {
   "cell_type": "code",
   "execution_count": null,
   "metadata": {},
   "outputs": [],
   "source": [
    "days = int(input('Enter the number of days to commit: '))\n",
    "\n",
    "for day in range(0, days):\n",
    "    date = (datetime.today() - timedelta(days=day)).strftime(\"%Y-%m-%d %H:%M:%S\")\n",
    "    for i in range(0, randint(1,5)):\n",
    "        print(date)\n",
    "        commit_n_push(date)\n"
   ]
  },
  {
   "cell_type": "markdown",
   "metadata": {},
   "source": [
    "random content/message ---->"
   ]
  },
  {
   "cell_type": "code",
   "execution_count": null,
   "metadata": {},
   "outputs": [
    {
     "name": "stdout",
     "output_type": "stream",
     "text": [
      "Tether ensures that distance doesnâ€™t mean disconnection.  --  README update: Showcasing Tetherâ€™s effortless connectivity\n",
      "Bridging distances with real-time tactile notifications.  --  Making the README more engaging with Tetherâ€™s features\n",
      "Bridging distances with real-time tactile notifications.  --  Tweaked README to highlight Tetherâ€™s unique functionality\n",
      "No words, no screensâ€”just a simple touch to stay connected.  --  README update: Showcasing Tetherâ€™s effortless connectivity\n",
      "Tether ensures that distance doesnâ€™t mean disconnection.  --  Making the README more engaging with Tetherâ€™s features\n",
      "Smart communication made simpler with Tether's tap-to-alert system.  --  README enhancement: Tetherâ€™s mission to simplify communication\n",
      "No words, no screensâ€”just a simple touch to stay connected.  --  Added more details about Tetherâ€™s real-time notifications\n",
      "Tether: A silent yet powerful way to communicate on the go.  --  Clarified how Tether simplifies touch-based communication\n",
      "No calls, no textsâ€”just an instant vibration to notify your group.  --  Refined README to better describe Tetherâ€™s user experience\n",
      "A minimalistic wearable designed for instant touch-based alerts.  --  README enhancement: Tetherâ€™s mission to simplify communication\n"
     ]
    }
   ],
   "source": [
    "import random\n",
    "\n",
    "def load_file_content(file_path):\n",
    "    with open(file_path, \"r\") as f:\n",
    "        return [line.strip() for line in f.readlines() if line.strip()]\n",
    "\n",
    "for i in range(0, 10):\n",
    "    readme_cont = load_file_content(\"readme_contents.txt\")\n",
    "    commit_msg = load_file_content(\"commit_messages.txt\")\n",
    "\n",
    "    random_readme_cont = random.choice(readme_cont)\n",
    "    random_commit_msg = random.choice(commit_msg)\n",
    "\n",
    "    print(random_readme_cont, ' -- ', random_commit_msg)\n"
   ]
  }
 ],
 "metadata": {
  "kernelspec": {
   "display_name": "Python 3",
   "language": "python",
   "name": "python3"
  },
  "language_info": {
   "codemirror_mode": {
    "name": "ipython",
    "version": 3
   },
   "file_extension": ".py",
   "mimetype": "text/x-python",
   "name": "python",
   "nbconvert_exporter": "python",
   "pygments_lexer": "ipython3",
   "version": "3.11.2"
  }
 },
 "nbformat": 4,
 "nbformat_minor": 2
}
