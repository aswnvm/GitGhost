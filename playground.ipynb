{
 "cells": [
  {
   "cell_type": "markdown",
   "metadata": {},
   "source": [
    "user interaction---->"
   ]
  },
  {
   "cell_type": "code",
   "execution_count": null,
   "metadata": {},
   "outputs": [],
   "source": [
    "import git\n",
    "from datetime import datetime, timedelta\n",
    "from random import randint\n",
    "import os\n",
    "\n",
    "\n",
    "local_repo = input('local repo exists? (y/n): ')\n",
    "if local_repo == 'n':\n",
    "    username = input('Enter your username: ')\n",
    "    repo_name = input('Enter the name of the repository: ')\n",
    "    local_rep_path = input('Enter the destination path: ')\n",
    "    repo = git.Repo.clone_from(f'https://github.com/{username}/{repo_name}.git', local_rep_path)\n",
    "    print('repository cloned successfully!')\n",
    "else:\n",
    "    local_rep_path = input('Enter the local repository path: ')\n",
    "    repo = git.Repo(local_rep_path)\n",
    "print(local_rep_path)\n"
   ]
  },
  {
   "cell_type": "markdown",
   "metadata": {},
   "source": [
    "git logic ---->"
   ]
  },
  {
   "cell_type": "code",
   "execution_count": null,
   "metadata": {},
   "outputs": [],
   "source": [
    "def commit_n_push(date):\n",
    "    with open(os.path.join(local_rep_path + '/README.md'), 'w') as f:\n",
    "        f.write(f\"This is a README file for the repository. Updated at {date}\\n\")\n",
    "    repo.index.add([os.path.join(local_rep_path + '/README.md')])\n",
    "    repo.index.commit(\"test commit\",author_date=date ,commit_date=date)\n",
    "    repo.remotes.origin.push()\n"
   ]
  },
  {
   "cell_type": "markdown",
   "metadata": {},
   "source": [
    "timestamp generation ---->"
   ]
  },
  {
   "cell_type": "code",
   "execution_count": null,
   "metadata": {},
   "outputs": [],
   "source": [
    "days = int(input('Enter the number of days to commit: '))\n",
    "\n",
    "for day in range(0, days):\n",
    "    date = (datetime.today() - timedelta(days=day)).strftime(\"%Y-%m-%d %H:%M:%S\")\n",
    "    for i in range(0, randint(1,5)):\n",
    "        print(date)\n",
    "        commit_n_push(date)\n"
   ]
  },
  {
   "cell_type": "code",
   "execution_count": null,
   "metadata": {},
   "outputs": [],
   "source": [
    "{\n",
    "    \"content#1\" : {\n",
    "        \"readme\" : \"GitGhost is an automated bot that generates and modifies code in a repository using AI.\",\n",
    "        \"commit\" : \"Initial commit with setup files\"\n",
    "    },\n",
    "    \"content#2\" : {\n",
    "        \"readme\" : \"GitGhost is an automated bot that generates and modifies code in a repository using AI.\",\n",
    "        \"commit\" : \"Initial commit with setup files\"\n",
    "    }\n",
    "}"
   ]
  },
  {
   "cell_type": "code",
   "execution_count": null,
   "metadata": {},
   "outputs": [
    {
     "name": "stdout",
     "output_type": "stream",
     "text": [
      "\n",
      "Available Files:\n",
      "1. LICENSE\n",
      "2. main.py\n",
      "3. README.md\n"
     ]
    },
    {
     "ename": "ValueError",
     "evalue": "invalid literal for int() with base 10: ''",
     "output_type": "error",
     "traceback": [
      "\u001b[1;31m---------------------------------------------------------------------------\u001b[0m",
      "\u001b[1;31mValueError\u001b[0m                                Traceback (most recent call last)",
      "Cell \u001b[1;32mIn[1], line 18\u001b[0m\n\u001b[0;32m     15\u001b[0m     \u001b[38;5;28mprint\u001b[39m(\u001b[38;5;124mf\u001b[39m\u001b[38;5;124m\"\u001b[39m\u001b[38;5;132;01m{\u001b[39;00mi\u001b[38;5;132;01m}\u001b[39;00m\u001b[38;5;124m. \u001b[39m\u001b[38;5;132;01m{\u001b[39;00mfile\u001b[38;5;132;01m}\u001b[39;00m\u001b[38;5;124m\"\u001b[39m)\n\u001b[0;32m     17\u001b[0m \u001b[38;5;66;03m# Let the user choose a file\u001b[39;00m\n\u001b[1;32m---> 18\u001b[0m choice \u001b[38;5;241m=\u001b[39m \u001b[38;5;28;43mint\u001b[39;49m\u001b[43m(\u001b[49m\u001b[38;5;28;43minput\u001b[39;49m\u001b[43m(\u001b[49m\u001b[38;5;124;43m\"\u001b[39;49m\u001b[38;5;130;43;01m\\n\u001b[39;49;00m\u001b[38;5;124;43mEnter the number of the file you want to select: \u001b[39;49m\u001b[38;5;124;43m\"\u001b[39;49m\u001b[43m)\u001b[49m\u001b[43m)\u001b[49m \u001b[38;5;241m-\u001b[39m \u001b[38;5;241m1\u001b[39m\n\u001b[0;32m     20\u001b[0m \u001b[38;5;28;01mif\u001b[39;00m \u001b[38;5;241m0\u001b[39m \u001b[38;5;241m<\u001b[39m\u001b[38;5;241m=\u001b[39m choice \u001b[38;5;241m<\u001b[39m \u001b[38;5;28mlen\u001b[39m(files):\n\u001b[0;32m     21\u001b[0m     selected_file \u001b[38;5;241m=\u001b[39m files[choice]\n",
      "\u001b[1;31mValueError\u001b[0m: invalid literal for int() with base 10: ''"
     ]
    }
   ],
   "source": [
    "import os\n",
    "\n",
    "path = r\"D:\\PROJECTS\\Tether\"  \n",
    "\n",
    "files = [f for f in os.listdir(path) if os.path.isfile(os.path.join(path, f))]\n",
    "\n",
    "if not files:\n",
    "    print(\"No files found in the directory.\")\n",
    "else:\n",
    "    print(\"\\nAvailable Files:\")\n",
    "    for i, file in enumerate(files, start=1):\n",
    "        print(f\"{i}. {file}\")\n",
    "\n",
    "    choice = int(input(\"\\nEnter the number of the file you want to select: \")) - 1\n",
    "\n",
    "    if 0 <= choice < len(files):\n",
    "        selected_file = files[choice]\n",
    "        print(f\"\\nYou selected: {selected_file}\")\n",
    "    else:\n",
    "        print(\"\\nInvalid selection.\")\n"
   ]
  },
  {
   "cell_type": "markdown",
   "metadata": {},
   "source": [
    "random content/message ---->"
   ]
  },
  {
   "cell_type": "code",
   "execution_count": null,
   "metadata": {},
   "outputs": [
    {
     "name": "stdout",
     "output_type": "stream",
     "text": [
      "Tether ensures that distance doesnâ€™t mean disconnection.  --  README update: Showcasing Tetherâ€™s effortless connectivity\n",
      "Bridging distances with real-time tactile notifications.  --  Making the README more engaging with Tetherâ€™s features\n",
      "Bridging distances with real-time tactile notifications.  --  Tweaked README to highlight Tetherâ€™s unique functionality\n",
      "No words, no screensâ€”just a simple touch to stay connected.  --  README update: Showcasing Tetherâ€™s effortless connectivity\n",
      "Tether ensures that distance doesnâ€™t mean disconnection.  --  Making the README more engaging with Tetherâ€™s features\n",
      "Smart communication made simpler with Tether's tap-to-alert system.  --  README enhancement: Tetherâ€™s mission to simplify communication\n",
      "No words, no screensâ€”just a simple touch to stay connected.  --  Added more details about Tetherâ€™s real-time notifications\n",
      "Tether: A silent yet powerful way to communicate on the go.  --  Clarified how Tether simplifies touch-based communication\n",
      "No calls, no textsâ€”just an instant vibration to notify your group.  --  Refined README to better describe Tetherâ€™s user experience\n",
      "A minimalistic wearable designed for instant touch-based alerts.  --  README enhancement: Tetherâ€™s mission to simplify communication\n"
     ]
    }
   ],
   "source": [
    "import random\n",
    "\n",
    "def load_file_content(file_path):\n",
    "    with open(file_path, \"r\") as f:\n",
    "        return [line.strip() for line in f.readlines() if line.strip()]\n",
    "\n",
    "for i in range(0, 10):\n",
    "    readme_cont = load_file_content(\"readme_contents.txt\")\n",
    "    commit_msg = load_file_content(\"commit_messages.txt\")\n",
    "\n",
    "    random_readme_cont = random.choice(readme_cont)\n",
    "    random_commit_msg = random.choice(commit_msg)\n",
    "\n",
    "    print(random_readme_cont, ' -- ', random_commit_msg)\n"
   ]
  }
 ],
 "metadata": {
  "kernelspec": {
   "display_name": "Python 3",
   "language": "python",
   "name": "python3"
  },
  "language_info": {
   "codemirror_mode": {
    "name": "ipython",
    "version": 3
   },
   "file_extension": ".py",
   "mimetype": "text/x-python",
   "name": "python",
   "nbconvert_exporter": "python",
   "pygments_lexer": "ipython3",
   "version": "3.10.2"
  }
 },
 "nbformat": 4,
 "nbformat_minor": 2
}
